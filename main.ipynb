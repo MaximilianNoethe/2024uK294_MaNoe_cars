{
  "cells": [
    {
      "cell_type": "markdown",
      "source": [
        "# Country Guessing Game"
      ],
      "metadata": {
        "id": "OIHK_f4UF6sW"
      },
      "id": "OIHK_f4UF6sW"
    },
    {
      "metadata": {
        "id": "f7e5002c0f5bd188",
        "outputId": "20e84fa5-934c-4471-93e2-1c06067f00de",
        "colab": {
          "base_uri": "https://localhost:8080/"
        }
      },
      "cell_type": "code",
      "outputs": [
        {
          "output_type": "stream",
          "name": "stdout",
          "text": [
            "Index(['Country', 'Region', 'Population', 'Area (sq. mi.)',\n",
            "       'Pop. Density (per sq. mi.)', 'Coastline (coast/area ratio)',\n",
            "       'Net migration', 'Infant mortality (per 1000 births)',\n",
            "       'GDP ($ per capita)', 'Literacy (%)', 'Phones (per 1000)', 'Arable (%)',\n",
            "       'Crops (%)', 'Other (%)', 'Climate', 'Birthrate', 'Deathrate',\n",
            "       'Agriculture', 'Industry', 'Service'],\n",
            "      dtype='object')\n",
            "(227, 20)\n",
            "[['Afghanistan ' 'ASIA (EX. NEAR EAST)         ' 31056997 647500 '0,00']\n",
            " ['Albania ' 'EASTERN EUROPE                     ' 3581655 28748 '1,26']\n",
            " ['Algeria ' 'NORTHERN AFRICA                    ' 32930091 2381740\n",
            "  '0,04']\n",
            " ...\n",
            " ['Yemen ' 'NEAR EAST                          ' 21456188 527970 '0,36']\n",
            " ['Zambia ' 'SUB-SAHARAN AFRICA                 ' 11502010 752614 '0,00']\n",
            " ['Zimbabwe ' 'SUB-SAHARAN AFRICA                 ' 12236805 390580\n",
            "  '0,00']]\n"
          ]
        },
        {
          "output_type": "execute_result",
          "data": {
            "text/plain": [
              "array([1])"
            ]
          },
          "metadata": {},
          "execution_count": 4
        }
      ],
      "execution_count": 4,
      "source": [
        "from sklearn import tree\n",
        "import pandas as pd\n",
        "\n",
        "df = pd.read_csv(\"countries.csv\")\n",
        "\n",
        "print(df.columns)\n",
        "print(df.shape)\n",
        "\n",
        "feature_columns = [\n",
        "    \"Country\",\n",
        "    \"Region\",\n",
        "    \"Population\",\n",
        "    \"Area (sq. mi.)\",\n",
        "    \"Coastline (coast/area ratio)\"\n",
        "]\n",
        "\n",
        "print(df[feature_columns].values)\n",
        "\n",
        "# X (input) => Feature values such as population range continent, etc.\n",
        "# each element of array is to be a fact of the country (e.g. \"80'000'000 => population of germany\")\n",
        "X = [[0, 0], [1, 1]]\n",
        "\n",
        "# Y (output) => country which the element of X refers to\n",
        "# for the above example => \"germany\"\n",
        "Y = [0, 1]\n",
        "clf = tree.DecisionTreeClassifier()\n",
        "clf = clf.fit(X, Y)\n",
        "\n",
        "clf.predict([[2., 2.]])"
      ],
      "id": "f7e5002c0f5bd188"
    }
  ],
  "metadata": {
    "colab": {
      "provenance": []
    },
    "language_info": {
      "name": "python"
    },
    "kernelspec": {
      "name": "python3",
      "display_name": "Python 3"
    }
  },
  "nbformat": 4,
  "nbformat_minor": 5
}