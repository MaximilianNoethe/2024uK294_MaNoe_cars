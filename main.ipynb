{
  "cells": [
    {
      "cell_type": "markdown",
      "source": [
        "# Country Guessing Game"
      ],
      "metadata": {
        "id": "OIHK_f4UF6sW"
      },
      "id": "OIHK_f4UF6sW"
    },
    {
      "metadata": {
        "id": "f7e5002c0f5bd188"
      },
      "cell_type": "code",
      "outputs": [],
      "execution_count": null,
      "source": [],
      "id": "f7e5002c0f5bd188"
    }
  ],
  "metadata": {
    "colab": {
      "provenance": []
    }
  },
  "nbformat": 4,
  "nbformat_minor": 5
}